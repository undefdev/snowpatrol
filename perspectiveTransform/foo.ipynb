{
 "cells": [
  {
   "cell_type": "code",
   "execution_count": 29,
   "metadata": {},
   "outputs": [],
   "source": [
    "import numpy\n",
    "\n",
    "def find_coeffs(pa, pb):\n",
    "    matrix = []\n",
    "    for p1, p2 in zip(pa, pb):\n",
    "        matrix.append([p1[0], p1[1], 1, 0, 0, 0, -p2[0]*p1[0], -p2[0]*p1[1]])\n",
    "        matrix.append([0, 0, 0, p1[0], p1[1], 1, -p2[1]*p1[0], -p2[1]*p1[1]])\n",
    "\n",
    "    A = numpy.matrix(matrix, dtype=numpy.float)\n",
    "    B = numpy.array(pb).reshape(8)\n",
    "\n",
    "    res = numpy.dot(numpy.linalg.inv(A.T * A) * A.T, B)\n",
    "    return numpy.array(res).reshape(8)"
   ]
  },
  {
   "cell_type": "code",
   "execution_count": 30,
   "metadata": {},
   "outputs": [],
   "source": [
    "plane1=[\n",
    "      [0, 0],\n",
    "      [0, 256],\n",
    "      [256, 0],\n",
    "      [256, 256]\n",
    "]\n",
    "\n",
    "plane2=[\n",
    "      [0, 0],\n",
    "      [0, 256],\n",
    "      [256, 100],\n",
    "      [256, 230]\n",
    "]"
   ]
  },
  {
   "cell_type": "code",
   "execution_count": 59,
   "metadata": {},
   "outputs": [],
   "source": [
    "x=find_coeffs(plane1,plane2)"
   ]
  },
  {
   "cell_type": "code",
   "execution_count": 60,
   "metadata": {},
   "outputs": [],
   "source": [
    "x=numpy.append(x,1)\n",
    "x=x.reshape((3,3))"
   ]
  },
  {
   "cell_type": "code",
   "execution_count": 61,
   "metadata": {},
   "outputs": [
    {
     "data": {
      "text/plain": [
       "array([[ 1.96923077e+00,  1.20313915e-15, -8.47322212e-13],\n",
       "       [ 7.69230769e-01,  1.00000000e+00, -7.60346060e-13],\n",
       "       [ 3.78605769e-03, -3.27568817e-18,  1.00000000e+00]])"
      ]
     },
     "execution_count": 61,
     "metadata": {},
     "output_type": "execute_result"
    }
   ],
   "source": [
    "x"
   ]
  },
  {
   "cell_type": "code",
   "execution_count": 40,
   "metadata": {},
   "outputs": [],
   "source": [
    "import numpy as np"
   ]
  },
  {
   "cell_type": "code",
   "execution_count": 46,
   "metadata": {},
   "outputs": [],
   "source": [
    "def perspectiveTransform(perspectiveMatrix, sourcePoints):\n",
    "    '''\n",
    "    perspectiveMatrix as above\n",
    "    sourcePoints has shape (n,2)\n",
    "    '''\n",
    "\n",
    "    # first we extend source points by a column of 1\n",
    "    # augment has shape (n,1)\n",
    "    augment = np.ones((sourcePoints.shape[0],1))\n",
    "    \n",
    "    print('aug',augment)\n",
    "    # projective_corners is a 3xn matrix with last row all 1\n",
    "    # note that we transpose the concatenation\n",
    "    projective_corners = np.concatenate( (sourceCorners, augment), axis=1).T\n",
    "    \n",
    "    print(projective_corners)\n",
    "\n",
    "    # projective_points has shape 3xn\n",
    "    projective_points = perspectiveMatrix.dot(projective_corners)\n",
    "\n",
    "    # obtain the target_points by dividing the projective_points \n",
    "    # by its last row (where it is non-zero)\n",
    "    # target_points has shape (3,n).\n",
    "    target_points = np.true_divide(projective_points, projective_points[-1])\n",
    "\n",
    "    # so we want return points in row form\n",
    "    return target_points[:2].T"
   ]
  },
  {
   "cell_type": "code",
   "execution_count": 42,
   "metadata": {},
   "outputs": [
    {
     "data": {
      "text/plain": [
       "array([[ 1.96923077e+00,  1.20313915e-15, -8.47322212e-13],\n",
       "       [ 7.69230769e-01,  1.00000000e+00, -7.60346060e-13],\n",
       "       [ 3.78605769e-03, -3.27568817e-18,  1.00000000e+00]])"
      ]
     },
     "execution_count": 42,
     "metadata": {},
     "output_type": "execute_result"
    }
   ],
   "source": [
    "x"
   ]
  },
  {
   "cell_type": "code",
   "execution_count": 49,
   "metadata": {},
   "outputs": [
    {
     "name": "stdout",
     "output_type": "stream",
     "text": [
      "aug [[1.]\n",
      " [1.]\n",
      " [1.]\n",
      " [1.]]\n",
      "[[  0.   0. 256. 256.]\n",
      " [  0. 256.   0. 256.]\n",
      " [  1.   1.   1.   1.]]\n"
     ]
    },
    {
     "data": {
      "text/plain": [
       "array([[-8.47322212e-13, -7.60346060e-13],\n",
       "       [-5.39318590e-13,  2.56000000e+02],\n",
       "       [ 2.56000000e+02,  1.00000000e+02],\n",
       "       [ 2.56000000e+02,  2.30000000e+02]])"
      ]
     },
     "execution_count": 49,
     "metadata": {},
     "output_type": "execute_result"
    }
   ],
   "source": [
    "perspectiveTransform(x,np.array(plane2))"
   ]
  },
  {
   "cell_type": "code",
   "execution_count": 48,
   "metadata": {},
   "outputs": [],
   "source": [
    "sourceCorners = np.array(plane1,dtype=np.float32)\n",
    "destinationCorners = np.array(plane2,dtype=np.float32)"
   ]
  },
  {
   "cell_type": "code",
   "execution_count": 52,
   "metadata": {},
   "outputs": [],
   "source": [
    "# Imports PIL module \n",
    "from PIL import ImageFont, ImageDraw, Image\n",
    "import PIL \n",
    "  \n",
    "# creating a image object (new image object) with \n",
    "# RGB mode and size 200x200 \n",
    "\n",
    "width = 256\n",
    "im = PIL.Image.new(mode = \"L\", size = (width, width),color='white')"
   ]
  },
  {
   "cell_type": "code",
   "execution_count": 53,
   "metadata": {},
   "outputs": [
    {
     "data": {
      "image/png": "[encoded data removed]",
      "text/plain": [
       "<PIL.Image.Image image mode=L size=256x256 at 0x7F37FB2E4790>"
      ]
     },
     "execution_count": 53,
     "metadata": {},
     "output_type": "execute_result"
    }
   ],
   "source": [
    "draw = ImageDraw.Draw(im)\n",
    "\n",
    "fontsize = 120\n",
    "font = ImageFont.truetype(\"/home/data/japanese/Fonts/epmarugo.ttf\", fontsize)\n",
    "char =\"愛\"\n",
    "\n",
    "x = (width - fontsize)/2\n",
    "draw.line((0, 0) + im.size, fill=128)\n",
    "draw.line((0, im.size[1], im.size[0], 0), fill=128)\n",
    "draw.text((x, x), char, font=font, fill=128)\n",
    "\n",
    "\n",
    "im"
   ]
  },
  {
   "cell_type": "code",
   "execution_count": 54,
   "metadata": {},
   "outputs": [],
   "source": [
    "from numpy import array\n",
    "arr = array(im)"
   ]
  },
  {
   "cell_type": "code",
   "execution_count": 57,
   "metadata": {},
   "outputs": [
    {
     "data": {
      "text/plain": [
       "array([[128, 255, 255, ..., 255, 255, 255],\n",
       "       [255, 128, 255, ..., 255, 255, 128],\n",
       "       [255, 255, 128, ..., 255, 128, 255],\n",
       "       ...,\n",
       "       [255, 255, 255, ..., 128, 255, 255],\n",
       "       [255, 255, 128, ..., 255, 128, 255],\n",
       "       [255, 128, 255, ..., 255, 255, 128]], dtype=uint8)"
      ]
     },
     "execution_count": 57,
     "metadata": {},
     "output_type": "execute_result"
    }
   ],
   "source": [
    "arr"
   ]
  },
  {
   "cell_type": "code",
   "execution_count": 58,
   "metadata": {},
   "outputs": [
    {
     "data": {
      "text/plain": [
       "68.0"
      ]
     },
     "execution_count": 58,
     "metadata": {},
     "output_type": "execute_result"
    }
   ],
   "source": [
    "x"
   ]
  },
  {
   "cell_type": "code",
   "execution_count": null,
   "metadata": {},
   "outputs": [],
   "source": []
  }
 ],
 "metadata": {
  "kernelspec": {
   "display_name": "Python 3",
   "language": "python",
   "name": "python3"
  },
  "language_info": {
   "codemirror_mode": {
    "name": "ipython",
    "version": 3
   },
   "file_extension": ".py",
   "mimetype": "text/x-python",
   "name": "python",
   "nbconvert_exporter": "python",
   "pygments_lexer": "ipython3",
   "version": "3.7.6"
  }
 },
 "nbformat": 4,
 "nbformat_minor": 4
}
